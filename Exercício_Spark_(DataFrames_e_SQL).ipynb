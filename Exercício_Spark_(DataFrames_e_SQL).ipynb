{
  "nbformat": 4,
  "nbformat_minor": 0,
  "metadata": {
    "colab": {
      "name": "Exercício Spark (DataFrames e SQL).ipynb",
      "provenance": [],
      "collapsed_sections": []
    },
    "kernelspec": {
      "name": "python3",
      "display_name": "Python 3"
    },
    "language_info": {
      "name": "python"
    }
  },
  "cells": [
    {
      "cell_type": "markdown",
      "source": [
        "## **Exercício Spark (DataFrames e SQL)**"
      ],
      "metadata": {
        "id": "v-10Hlu2hwuS"
      }
    },
    {
      "cell_type": "markdown",
      "source": [
        "**Parte 1 (DataFrames)**"
      ],
      "metadata": {
        "id": "X54ldkc1Y8bw"
      }
    },
    {
      "cell_type": "code",
      "execution_count": 47,
      "metadata": {
        "id": "FWKkH8i4lt0L"
      },
      "outputs": [],
      "source": [
        "# Resolução Questão 01\n",
        "\n",
        "!apt-get install openjdk-8-jdk-headless -qq > /dev/null\n",
        "\n",
        "!wget -q https://dlcdn.apache.org/spark/spark-3.2.1/spark-3.2.1-bin-hadoop3.2.tgz \n",
        "!tar xf spark-3.2.1-bin-hadoop3.2.tgz \n",
        "\n",
        "!pip install -q findspark "
      ]
    },
    {
      "cell_type": "code",
      "source": [
        "import os \n",
        "os.environ[\"JAVA_HOME\"] = \"/usr/lib/jvm/java-8-openjdk-amd64\"\n",
        "os.environ[\"SPARK_HOME\"] = \"/content/spark-3.2.1-bin-hadoop3.2\""
      ],
      "metadata": {
        "id": "VGOSjx4hmLkn"
      },
      "execution_count": 48,
      "outputs": []
    },
    {
      "cell_type": "code",
      "source": [
        "import findspark\n",
        "findspark.init()"
      ],
      "metadata": {
        "id": "DHILDzsYmL9H"
      },
      "execution_count": 15,
      "outputs": []
    },
    {
      "cell_type": "code",
      "source": [
        "from pyspark.sql import SparkSession\n",
        "\n",
        "spark = SparkSession.builder.appName(\"Spark SQL\").master(\"local[*]\").getOrCreate()\n",
        "spark"
      ],
      "metadata": {
        "colab": {
          "base_uri": "https://localhost:8080/",
          "height": 219
        },
        "id": "G5_4TdyMmMJx",
        "outputId": "c6091f96-16d2-4fe4-c2b5-34d4e94858d5"
      },
      "execution_count": 16,
      "outputs": [
        {
          "output_type": "execute_result",
          "data": {
            "text/plain": [
              "<pyspark.sql.session.SparkSession at 0x7f5675c47490>"
            ],
            "text/html": [
              "\n",
              "            <div>\n",
              "                <p><b>SparkSession - in-memory</b></p>\n",
              "                \n",
              "        <div>\n",
              "            <p><b>SparkContext</b></p>\n",
              "\n",
              "            <p><a href=\"http://925860a013b2:4040\">Spark UI</a></p>\n",
              "\n",
              "            <dl>\n",
              "              <dt>Version</dt>\n",
              "                <dd><code>v3.2.1</code></dd>\n",
              "              <dt>Master</dt>\n",
              "                <dd><code>local[*]</code></dd>\n",
              "              <dt>AppName</dt>\n",
              "                <dd><code>Spark SQL</code></dd>\n",
              "            </dl>\n",
              "        </div>\n",
              "        \n",
              "            </div>\n",
              "        "
            ]
          },
          "metadata": {},
          "execution_count": 16
        }
      ]
    },
    {
      "cell_type": "code",
      "source": [
        "from pyspark.sql.types import *"
      ],
      "metadata": {
        "id": "VbZUB73DmboG"
      },
      "execution_count": 17,
      "outputs": []
    },
    {
      "cell_type": "code",
      "source": [
        "from google.colab import drive\n",
        "drive.mount('/content/drive')"
      ],
      "metadata": {
        "colab": {
          "base_uri": "https://localhost:8080/"
        },
        "id": "gfuRXcObzhiQ",
        "outputId": "27477f47-6bf8-48c3-e7a1-7d55d4f977ea"
      },
      "execution_count": 35,
      "outputs": [
        {
          "output_type": "stream",
          "name": "stdout",
          "text": [
            "Mounted at /content/drive\n"
          ]
        }
      ]
    },
    {
      "cell_type": "code",
      "source": [
        "spark.sql('DROP DATABASE IF EXISTS clientes CASCADE')"
      ],
      "metadata": {
        "colab": {
          "base_uri": "https://localhost:8080/"
        },
        "id": "x6i1knTzrFWo",
        "outputId": "d05bd031-9979-4343-b92e-9b44d98485b1"
      },
      "execution_count": 144,
      "outputs": [
        {
          "output_type": "execute_result",
          "data": {
            "text/plain": [
              "DataFrame[]"
            ]
          },
          "metadata": {},
          "execution_count": 144
        }
      ]
    },
    {
      "cell_type": "code",
      "source": [
        "spark.sql('CREATE DATABASE PARTE1') \n",
        "spark.sql('USE PARTE1')\n",
        "cliente_schema = 'idCliente INT, NomeCliente STRING, Sexo STRING, Estado STRING, Status_Cliente STRING'\n",
        "Cliente = spark.read.parquet('/content/Clientes.parquet', header=False, schema=cliente_schema) \n",
        "Cliente.write.saveAsTable(\"Clientes\")\n",
        "Cliente.show()"
      ],
      "metadata": {
        "colab": {
          "base_uri": "https://localhost:8080/"
        },
        "id": "OAfmm9ATtWek",
        "outputId": "711f4cb1-e4b8-49dd-ea7a-3fd0ef36a365"
      },
      "execution_count": 141,
      "outputs": [
        {
          "output_type": "stream",
          "name": "stdout",
          "text": [
            "+---------+--------------------+------+------+--------+\n",
            "|ClienteID|             Cliente|Estado|Genero|  Status|\n",
            "+---------+--------------------+------+------+--------+\n",
            "|        1|Adelina Buenaventura|    RJ|     M|  Silver|\n",
            "|        2|        Adelino Gago|    RJ|     M|  Silver|\n",
            "|        3|     Adolfo Patrício|    PE|     M|  Silver|\n",
            "|        4|    Adriana Guedelha|    RO|     F|Platinum|\n",
            "|        5|       Adélio Lisboa|    SE|     M|  Silver|\n",
            "|        6|       Adérito Bahía|    MA|     M|  Silver|\n",
            "|        7|       Aida Dorneles|    RN|     F|  Silver|\n",
            "|        8|   Alarico Quinterno|    AC|     M|  Silver|\n",
            "|        9|    Alberto Cezimbra|    AM|     M|  Silver|\n",
            "|       10|    Alberto Monsanto|    RN|     M|    Gold|\n",
            "|       11|       Albino Canela|    AC|     M|  Silver|\n",
            "|       12|     Alceste Varanda|    RR|     F|  Silver|\n",
            "|       13|  Alcides Carvalhais|    RO|     M|  Silver|\n",
            "|       14|        Aldo Martins|    GO|     M|  Silver|\n",
            "|       15|   Alexandra Tabares|    MG|     F|  Silver|\n",
            "|       16|      Alfredo Cotrim|    SC|     M|  Silver|\n",
            "|       17|     Almeno Figueira|    SC|     M|  Silver|\n",
            "|       18|      Alvito Peralta|    AM|     M|  Silver|\n",
            "|       19|     Amadeu Martinho|    RN|     M|  Silver|\n",
            "|       20|      Amélia Estévez|    PE|     F|  Silver|\n",
            "+---------+--------------------+------+------+--------+\n",
            "only showing top 20 rows\n",
            "\n"
          ]
        }
      ]
    },
    {
      "cell_type": "code",
      "source": [
        "spark.sql('SELECT Cliente as Nome , Status, Estado FROM Clientes').show()"
      ],
      "metadata": {
        "colab": {
          "base_uri": "https://localhost:8080/"
        },
        "id": "Hav46KgP5VzG",
        "outputId": "68f443e4-2e83-4e5e-f4fd-10ab74eb22bc"
      },
      "execution_count": 64,
      "outputs": [
        {
          "output_type": "stream",
          "name": "stdout",
          "text": [
            "+--------------------+--------+------+\n",
            "|                Nome|  Status|Estado|\n",
            "+--------------------+--------+------+\n",
            "|Adelina Buenaventura|  Silver|    RJ|\n",
            "|        Adelino Gago|  Silver|    RJ|\n",
            "|     Adolfo Patrício|  Silver|    PE|\n",
            "|    Adriana Guedelha|Platinum|    RO|\n",
            "|       Adélio Lisboa|  Silver|    SE|\n",
            "|       Adérito Bahía|  Silver|    MA|\n",
            "|       Aida Dorneles|  Silver|    RN|\n",
            "|   Alarico Quinterno|  Silver|    AC|\n",
            "|    Alberto Cezimbra|  Silver|    AM|\n",
            "|    Alberto Monsanto|    Gold|    RN|\n",
            "|       Albino Canela|  Silver|    AC|\n",
            "|     Alceste Varanda|  Silver|    RR|\n",
            "|  Alcides Carvalhais|  Silver|    RO|\n",
            "|        Aldo Martins|  Silver|    GO|\n",
            "|   Alexandra Tabares|  Silver|    MG|\n",
            "|      Alfredo Cotrim|  Silver|    SC|\n",
            "|     Almeno Figueira|  Silver|    SC|\n",
            "|      Alvito Peralta|  Silver|    AM|\n",
            "|     Amadeu Martinho|  Silver|    RN|\n",
            "|      Amélia Estévez|  Silver|    PE|\n",
            "+--------------------+--------+------+\n",
            "only showing top 20 rows\n",
            "\n"
          ]
        }
      ]
    },
    {
      "cell_type": "code",
      "source": [
        "# Resolução Questão 02\n",
        "\n",
        "spark.sql(\"SELECT*FROM Clientes WHERE Status='Gold'\").show()"
      ],
      "metadata": {
        "colab": {
          "base_uri": "https://localhost:8080/"
        },
        "id": "1NGpY-DS5eZw",
        "outputId": "16066609-1f3b-4543-f76b-61b315a7e6ec"
      },
      "execution_count": 72,
      "outputs": [
        {
          "output_type": "stream",
          "name": "stdout",
          "text": [
            "+---------+-------------------+------+------+------+\n",
            "|ClienteID|            Cliente|Estado|Genero|Status|\n",
            "+---------+-------------------+------+------+------+\n",
            "|       10|   Alberto Monsanto|    RN|     M|  Gold|\n",
            "|       28|      Anna Carvajal|    RS|     F|  Gold|\n",
            "|       49|      Bento Quintão|    SP|     M|  Gold|\n",
            "|       68|      Carminda Dias|    AM|     F|  Gold|\n",
            "|       83|      Cláudio Jorge|    TO|     M|  Gold|\n",
            "|      121|    Dionísio Saltão|    PR|     M|  Gold|\n",
            "|      166|   Firmino Meireles|    AM|     M|  Gold|\n",
            "|      220|Honorina Villaverde|    PE|     F|  Gold|\n",
            "|      237|  Iracema Rodríguez|    BA|     F|  Gold|\n",
            "+---------+-------------------+------+------+------+\n",
            "\n"
          ]
        }
      ]
    },
    {
      "cell_type": "code",
      "source": [
        "# Resolução Questão 03\n",
        "\n",
        "vendas_schema= 'idVendas INT, idVendedor INT, idCliente INT, Data_venda DATE, Total_Vendas FLOAT'\n",
        "Vendas = spark.read.parquet('/content/Vendas.parquet', header=False, schema=vendas_schema) \n",
        "Vendas.write.saveAsTable(\"Vendas\")"
      ],
      "metadata": {
        "id": "zgZvTkD8yHag"
      },
      "execution_count": 143,
      "outputs": []
    },
    {
      "cell_type": "code",
      "source": [
        "spark.sql('SELECT C.Status, V.Total FROM Clientes C INNER JOIN Vendas V ON C.ClienteID=V.ClienteID').show()"
      ],
      "metadata": {
        "colab": {
          "base_uri": "https://localhost:8080/"
        },
        "id": "scq4FvMeJXQ1",
        "outputId": "7719cf93-ab12-4fc6-cfbf-8336612e0c03"
      },
      "execution_count": 127,
      "outputs": [
        {
          "output_type": "stream",
          "name": "stdout",
          "text": [
            "+------+--------+\n",
            "|Status|   Total|\n",
            "+------+--------+\n",
            "|Silver|  8053.6|\n",
            "|Silver|   150.4|\n",
            "|Silver|  6087.0|\n",
            "|Silver| 13828.6|\n",
            "|Silver|26096.66|\n",
            "|Silver| 18402.0|\n",
            "|Silver|  7524.2|\n",
            "|Silver| 12036.6|\n",
            "|Silver| 2804.75|\n",
            "|Silver|  8852.0|\n",
            "|Silver|16545.25|\n",
            "|Silver|11411.88|\n",
            "|Silver| 15829.7|\n",
            "|Silver| 6154.36|\n",
            "|Silver| 3255.08|\n",
            "|Silver| 2901.25|\n",
            "|Silver| 15829.7|\n",
            "|Silver|16996.36|\n",
            "|Silver|   155.0|\n",
            "|Silver|  131.75|\n",
            "+------+--------+\n",
            "only showing top 20 rows\n",
            "\n"
          ]
        }
      ]
    },
    {
      "cell_type": "markdown",
      "source": [
        "**Parte 2 (SQL)**"
      ],
      "metadata": {
        "id": "7HYF168xYmkd"
      }
    },
    {
      "cell_type": "code",
      "source": [
        "# Resolução Questão 01\n",
        "\n",
        "spark.sql('CREATE DATABASE VENDAS_COMERCIO')\n",
        "spark.sql('USE VENDAS_COMERCIO')\n",
        "spark.sql(\"show tables\").show()"
      ],
      "metadata": {
        "colab": {
          "base_uri": "https://localhost:8080/"
        },
        "id": "yAfWSISRYlbT",
        "outputId": "274f03ce-77f4-4e82-e017-42f1f35d17f5"
      },
      "execution_count": 134,
      "outputs": [
        {
          "output_type": "stream",
          "name": "stdout",
          "text": [
            "+---------+---------+-----------+\n",
            "|namespace|tableName|isTemporary|\n",
            "+---------+---------+-----------+\n",
            "+---------+---------+-----------+\n",
            "\n"
          ]
        }
      ]
    },
    {
      "cell_type": "code",
      "source": [
        ""
      ],
      "metadata": {
        "id": "_xFx94RLb6sj"
      },
      "execution_count": null,
      "outputs": []
    }
  ]
}